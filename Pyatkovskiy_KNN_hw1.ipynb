{
  "cells": [
    {
      "cell_type": "markdown",
      "metadata": {
        "id": "view-in-github",
        "colab_type": "text"
      },
      "source": [
        "<a href=\"https://colab.research.google.com/github/psa2001/msu_ml_spring_2022/blob/main/Pyatkovskiy_KNN_hw1.ipynb\" target=\"_parent\"><img src=\"https://colab.research.google.com/assets/colab-badge.svg\" alt=\"Open In Colab\"/></a>"
      ]
    },
    {
      "cell_type": "markdown",
      "metadata": {
        "id": "OhU97pj3k3qf"
      },
      "source": [
        "## Общая информация\n",
        "\n",
        "**Срок сдачи:** 5 апреля 2022, 08:30 \n",
        "\n",
        "**Штраф за опоздание:** по 1 баллу за 24 часа задержки. Через 5 дней домашнее задание сгорает.\n",
        "\n",
        "При отправлении ДЗ указывайте фамилию в названии файла\n",
        "Присылать ДЗ необходимо в виде ссылки на свой github репозиторий на почту ml1.sphere@mail.ru с указанием темы в следующем формате:\n",
        "\n",
        "[ML0220, Задание 1] Фамилия Имя.\n",
        "\n",
        "Используйте данный Ipython Notebook при оформлении домашнего задания."
      ]
    },
    {
      "cell_type": "markdown",
      "metadata": {
        "id": "q9eLnTMAk3qn"
      },
      "source": [
        "\n",
        "**Штрафные баллы:**\n",
        "\n",
        "1. Отсутствие фамилии в имени скрипта (скрипт должен называться по аналогии со stroykova_hw1.ipynb) -0.5 баллов\n",
        "2. Все строчки должны быть выполнены. Нужно, чтобы output команды можно было увидеть уже в git'е. В противном случае -0.5 баллов\n"
      ]
    },
    {
      "cell_type": "code",
      "execution_count": 1,
      "metadata": {
        "collapsed": true,
        "jupyter": {
          "outputs_hidden": true
        },
        "id": "EBMwu5wtk3qp"
      },
      "outputs": [],
      "source": [
        "import numpy as np\n",
        "import matplotlib.pyplot as plt\n",
        "\n",
        "import seaborn as sns\n",
        "from sklearn import datasets\n",
        "from sklearn.base import BaseEstimator\n",
        "from sklearn.datasets import fetch_openml, fetch_20newsgroups\n",
        "#from sklearn.datasets import fetch_mldata, fetch_20newsgroups\n",
        "\n",
        "from sklearn.model_selection import train_test_split\n",
        "from sklearn.neighbors import KNeighborsClassifier\n",
        "from sklearn.metrics import accuracy_score"
      ]
    },
    {
      "cell_type": "code",
      "source": [
        "from sklearn.metrics import pairwise_distances as pair_dist\n",
        "from sklearn.neighbors import KDTree\n",
        "from sklearn.feature_extraction.text import CountVectorizer, TfidfVectorizer"
      ],
      "metadata": {
        "id": "Q-QshUtguQ6S"
      },
      "execution_count": 2,
      "outputs": []
    },
    {
      "cell_type": "markdown",
      "metadata": {
        "id": "nWEttJMNk3qs"
      },
      "source": [
        "### Задание 1 (1 балл)\n",
        "Реализовать KNN в классе MyKNeighborsClassifier (обязательное условие: точность не ниже sklearn реализации)\n",
        "Разберитесь самостоятельно, какая мера расстояния используется в KNeighborsClassifier дефолтно и реализуйте свой алгоритм именно с этой мерой. \n",
        "Для подсчета расстояний можно использовать функции [отсюда](https://docs.scipy.org/doc/scipy/reference/spatial.distance.html)"
      ]
    },
    {
      "cell_type": "code",
      "execution_count": 3,
      "metadata": {
        "collapsed": true,
        "jupyter": {
          "outputs_hidden": true
        },
        "id": "Fueii4Qwk3qt"
      },
      "outputs": [],
      "source": [
        "class MyKNeighborsClassifier(BaseEstimator):\n",
        "    \n",
        "    def __init__(self, n_neighbors, algorithm='brute', metric = 'euclidean'):\n",
        "        self.n_neighbors = n_neighbors\n",
        "        self.algorithm = algorithm\n",
        "        self.metric = metric\n",
        "    \n",
        "    \n",
        "    def fit(self, X, y):\n",
        "        self.X_train = X\n",
        "        self.Y_train = y\n",
        "\n",
        "\n",
        "    def predict(self, X):\n",
        "        def closest_label(data):\n",
        "            return np.argmax(np.bincount(data))\n",
        "        if(self.algorithm == 'brute'):\n",
        "            best_neigh = np.argsort(pair_dist(X, self.X_train, metric=self.metric), axis=1)[:, :self.n_neighbors]\n",
        "        if(self.algorithm == 'kd_tree'):\n",
        "            tree = KDTree(self.X_train, leaf_size=2)\n",
        "            idx, best_neigh = tree.query(X, k=self.n_neighbors)\n",
        "        best_y_neigh = self.Y_train[best_neigh]\n",
        "        y_predicted = np.apply_along_axis(closest_label, 1, best_y_neigh)\n",
        "        return y_predicted"
      ]
    },
    {
      "cell_type": "markdown",
      "metadata": {
        "id": "7ZqdzLcRk3qu"
      },
      "source": [
        "**IRIS**\n",
        "\n",
        "В библиотеке scikit-learn есть несколько датасетов из коробки. Один из них [Ирисы Фишера](https://ru.wikipedia.org/wiki/%D0%98%D1%80%D0%B8%D1%81%D1%8B_%D0%A4%D0%B8%D1%88%D0%B5%D1%80%D0%B0)"
      ]
    },
    {
      "cell_type": "code",
      "execution_count": 4,
      "metadata": {
        "collapsed": true,
        "jupyter": {
          "outputs_hidden": true
        },
        "id": "Dd78Hpgfk3qv"
      },
      "outputs": [],
      "source": [
        "iris = datasets.load_iris()"
      ]
    },
    {
      "cell_type": "code",
      "execution_count": 5,
      "metadata": {
        "collapsed": true,
        "jupyter": {
          "outputs_hidden": true
        },
        "id": "hNAbBwosk3qw"
      },
      "outputs": [],
      "source": [
        "X_train, X_test, y_train, y_test = train_test_split(iris.data, iris.target, test_size=0.1, stratify=iris.target)"
      ]
    },
    {
      "cell_type": "code",
      "execution_count": 6,
      "metadata": {
        "collapsed": true,
        "jupyter": {
          "outputs_hidden": true
        },
        "id": "Uo9HP80Ok3qw"
      },
      "outputs": [],
      "source": [
        "clf = KNeighborsClassifier(n_neighbors=2, algorithm='brute')\n",
        "my_clf = MyKNeighborsClassifier(n_neighbors=2, algorithm='brute')"
      ]
    },
    {
      "cell_type": "code",
      "execution_count": 7,
      "metadata": {
        "collapsed": true,
        "jupyter": {
          "outputs_hidden": true
        },
        "id": "UZAK-_k6k3qy"
      },
      "outputs": [],
      "source": [
        "clf.fit(X_train, y_train)\n",
        "my_clf.fit(X_train, y_train)"
      ]
    },
    {
      "cell_type": "code",
      "execution_count": 8,
      "metadata": {
        "collapsed": true,
        "jupyter": {
          "outputs_hidden": true
        },
        "id": "k6luz7Omk3qy"
      },
      "outputs": [],
      "source": [
        "sklearn_pred = clf.predict(X_test)\n",
        "my_clf_pred = my_clf.predict(X_test)\n",
        "assert abs( accuracy_score(y_test, my_clf_pred) -  accuracy_score(y_test, sklearn_pred ) )<0.005, \"Score must be simillar\""
      ]
    },
    {
      "cell_type": "code",
      "source": [
        "X_train.shape, X_test.shape, y_train.shape, y_test.shape"
      ],
      "metadata": {
        "colab": {
          "base_uri": "https://localhost:8080/"
        },
        "id": "J7QAEfAcVkAy",
        "outputId": "3a82b011-4749-4e7f-dee9-a3f19d80e40e"
      },
      "execution_count": 9,
      "outputs": [
        {
          "output_type": "execute_result",
          "data": {
            "text/plain": [
              "((135, 4), (15, 4), (135,), (15,))"
            ]
          },
          "metadata": {},
          "execution_count": 9
        }
      ]
    },
    {
      "cell_type": "code",
      "source": [
        "abs( accuracy_score(y_test, my_clf_pred) -  accuracy_score(y_test, sklearn_pred ))"
      ],
      "metadata": {
        "colab": {
          "base_uri": "https://localhost:8080/"
        },
        "id": "DjYdzx4nz1kf",
        "outputId": "b9d945ee-fc27-48d7-8bf3-9d5a3a9c49a0"
      },
      "execution_count": 10,
      "outputs": [
        {
          "output_type": "execute_result",
          "data": {
            "text/plain": [
              "0.0"
            ]
          },
          "metadata": {},
          "execution_count": 10
        }
      ]
    },
    {
      "cell_type": "markdown",
      "metadata": {
        "id": "uJJC-J38k3qz"
      },
      "source": [
        "### Задание 2 (0.5 балла)\n",
        "\n",
        "Давайте попробуем добиться скорости работы на fit, predict сравнимой со sklearn для iris. Допускается замедление не более чем в 2 раза. \n",
        "Для этого используем numpy. "
      ]
    },
    {
      "cell_type": "code",
      "execution_count": 11,
      "metadata": {
        "collapsed": true,
        "jupyter": {
          "outputs_hidden": true
        },
        "colab": {
          "base_uri": "https://localhost:8080/"
        },
        "id": "EbZ3u3L-k3q2",
        "outputId": "c8ad5ca3-2230-4514-c694-a4ef8b1a8c1e"
      },
      "outputs": [
        {
          "output_type": "stream",
          "name": "stdout",
          "text": [
            "CPU times: user 372 µs, sys: 104 µs, total: 476 µs\n",
            "Wall time: 482 µs\n"
          ]
        },
        {
          "output_type": "execute_result",
          "data": {
            "text/plain": [
              "KNeighborsClassifier(algorithm='brute', n_neighbors=2)"
            ]
          },
          "metadata": {},
          "execution_count": 11
        }
      ],
      "source": [
        "%time clf.fit(X_train, y_train)"
      ]
    },
    {
      "cell_type": "code",
      "execution_count": 12,
      "metadata": {
        "collapsed": true,
        "jupyter": {
          "outputs_hidden": true
        },
        "colab": {
          "base_uri": "https://localhost:8080/"
        },
        "id": "bvsRWNHjk3q2",
        "outputId": "499ded2a-a738-4f9e-ab2a-f901bffd29c4"
      },
      "outputs": [
        {
          "output_type": "stream",
          "name": "stdout",
          "text": [
            "CPU times: user 8 µs, sys: 0 ns, total: 8 µs\n",
            "Wall time: 11.2 µs\n"
          ]
        }
      ],
      "source": [
        "%time my_clf.fit(X_train, y_train)"
      ]
    },
    {
      "cell_type": "code",
      "execution_count": 13,
      "metadata": {
        "collapsed": true,
        "jupyter": {
          "outputs_hidden": true
        },
        "colab": {
          "base_uri": "https://localhost:8080/"
        },
        "id": "6tFgVbtxk3q3",
        "outputId": "d857e405-3f0b-45c3-aa11-2623c44385dc"
      },
      "outputs": [
        {
          "output_type": "stream",
          "name": "stdout",
          "text": [
            "CPU times: user 4.76 ms, sys: 207 µs, total: 4.97 ms\n",
            "Wall time: 5 ms\n"
          ]
        },
        {
          "output_type": "execute_result",
          "data": {
            "text/plain": [
              "array([1, 1, 2, 2, 1, 0, 1, 0, 0, 1, 2, 0, 2, 0, 2])"
            ]
          },
          "metadata": {},
          "execution_count": 13
        }
      ],
      "source": [
        "%time clf.predict(X_test)"
      ]
    },
    {
      "cell_type": "code",
      "execution_count": 14,
      "metadata": {
        "collapsed": true,
        "jupyter": {
          "outputs_hidden": true
        },
        "colab": {
          "base_uri": "https://localhost:8080/"
        },
        "id": "QDYrYPL0k3q3",
        "outputId": "3cb36e6c-928a-488c-ac6f-0ea34f759d9d"
      },
      "outputs": [
        {
          "output_type": "stream",
          "name": "stdout",
          "text": [
            "CPU times: user 757 µs, sys: 0 ns, total: 757 µs\n",
            "Wall time: 766 µs\n"
          ]
        },
        {
          "output_type": "execute_result",
          "data": {
            "text/plain": [
              "array([1, 1, 2, 2, 1, 0, 1, 0, 0, 1, 2, 0, 2, 0, 2])"
            ]
          },
          "metadata": {},
          "execution_count": 14
        }
      ],
      "source": [
        "%time my_clf.predict(X_test)"
      ]
    },
    {
      "cell_type": "markdown",
      "metadata": {
        "id": "noJTKOMdk3q4"
      },
      "source": [
        "### Задание 3 (1 балл)\n",
        "Добавьте algorithm='kd_tree' в реализацию KNN (использовать KDTree из sklearn.neighbors). Необходимо добиться скорости работы на fit,  predict сравнимой со sklearn для iris. Допускается замедление не более чем в 2 раза. \n",
        "Для этого используем numpy. Точность не должна уступать значению KNN из sklearn. "
      ]
    },
    {
      "cell_type": "code",
      "execution_count": 15,
      "metadata": {
        "collapsed": true,
        "jupyter": {
          "outputs_hidden": true
        },
        "id": "PMsDKOYKk3q4"
      },
      "outputs": [],
      "source": [
        "clf = KNeighborsClassifier(n_neighbors=2, algorithm='kd_tree')\n",
        "my_clf = MyKNeighborsClassifier(n_neighbors=2, algorithm='kd_tree')"
      ]
    },
    {
      "cell_type": "code",
      "execution_count": 16,
      "metadata": {
        "collapsed": true,
        "jupyter": {
          "outputs_hidden": true
        },
        "id": "cYhrlR1hk3q5"
      },
      "outputs": [],
      "source": [
        "X_train, X_test, y_train, y_test = train_test_split(iris.data, iris.target, test_size=0.1, stratify=iris.target)"
      ]
    },
    {
      "cell_type": "code",
      "execution_count": 17,
      "metadata": {
        "collapsed": true,
        "jupyter": {
          "outputs_hidden": true
        },
        "colab": {
          "base_uri": "https://localhost:8080/"
        },
        "id": "8P_stf8kk3q5",
        "outputId": "fe7a3925-4485-4de7-d76b-ea952705cadc"
      },
      "outputs": [
        {
          "output_type": "stream",
          "name": "stdout",
          "text": [
            "CPU times: user 1.08 ms, sys: 0 ns, total: 1.08 ms\n",
            "Wall time: 1.24 ms\n"
          ]
        },
        {
          "output_type": "execute_result",
          "data": {
            "text/plain": [
              "KNeighborsClassifier(algorithm='kd_tree', n_neighbors=2)"
            ]
          },
          "metadata": {},
          "execution_count": 17
        }
      ],
      "source": [
        "%time clf.fit(X_train, y_train)"
      ]
    },
    {
      "cell_type": "code",
      "execution_count": 18,
      "metadata": {
        "collapsed": true,
        "jupyter": {
          "outputs_hidden": true
        },
        "colab": {
          "base_uri": "https://localhost:8080/"
        },
        "id": "KywYz0hPk3q6",
        "outputId": "aa473d81-f4b5-4d53-dc2a-50ac7b749086"
      },
      "outputs": [
        {
          "output_type": "stream",
          "name": "stdout",
          "text": [
            "CPU times: user 6 µs, sys: 2 µs, total: 8 µs\n",
            "Wall time: 11.9 µs\n"
          ]
        }
      ],
      "source": [
        "%time my_clf.fit(X_train, y_train)"
      ]
    },
    {
      "cell_type": "code",
      "execution_count": 19,
      "metadata": {
        "collapsed": true,
        "jupyter": {
          "outputs_hidden": true
        },
        "colab": {
          "base_uri": "https://localhost:8080/"
        },
        "id": "gIx109MAk3q6",
        "outputId": "416a4578-7e51-4c20-dfcc-f4394d6aafdc"
      },
      "outputs": [
        {
          "output_type": "stream",
          "name": "stdout",
          "text": [
            "CPU times: user 2.44 ms, sys: 1.12 ms, total: 3.56 ms\n",
            "Wall time: 4.38 ms\n"
          ]
        },
        {
          "output_type": "execute_result",
          "data": {
            "text/plain": [
              "array([0, 1, 0, 2, 0, 2, 1, 0, 1, 1, 1, 2, 0, 2, 1])"
            ]
          },
          "metadata": {},
          "execution_count": 19
        }
      ],
      "source": [
        "%time clf.predict(X_test)"
      ]
    },
    {
      "cell_type": "code",
      "execution_count": 20,
      "metadata": {
        "collapsed": true,
        "jupyter": {
          "outputs_hidden": true
        },
        "colab": {
          "base_uri": "https://localhost:8080/"
        },
        "id": "c0e1IW22k3q6",
        "outputId": "fd185f5d-b779-4387-dfeb-a8685ee738ab"
      },
      "outputs": [
        {
          "output_type": "stream",
          "name": "stdout",
          "text": [
            "CPU times: user 487 µs, sys: 710 µs, total: 1.2 ms\n",
            "Wall time: 1.53 ms\n"
          ]
        },
        {
          "output_type": "execute_result",
          "data": {
            "text/plain": [
              "array([0, 1, 0, 2, 0, 2, 1, 0, 1, 1, 1, 2, 0, 2, 1])"
            ]
          },
          "metadata": {},
          "execution_count": 20
        }
      ],
      "source": [
        "%time my_clf.predict(X_test)"
      ]
    },
    {
      "cell_type": "code",
      "execution_count": 21,
      "metadata": {
        "collapsed": true,
        "jupyter": {
          "outputs_hidden": true
        },
        "id": "G9xOyL1mk3q7"
      },
      "outputs": [],
      "source": [
        "sklearn_pred = clf.predict(X_test)\n",
        "my_clf_pred = my_clf.predict(X_test)\n",
        "assert abs( accuracy_score(y_test, my_clf_pred) -  accuracy_score(y_test, sklearn_pred ) )<0.005, \"Score must be simillar\""
      ]
    },
    {
      "cell_type": "markdown",
      "metadata": {
        "id": "WREzPloyk3q7"
      },
      "source": [
        "### Задание 4 (2.5 балла)\n",
        "\n",
        "Рассмотрим новый датасет 20 newsgroups"
      ]
    },
    {
      "cell_type": "code",
      "execution_count": 22,
      "metadata": {
        "collapsed": true,
        "jupyter": {
          "outputs_hidden": true
        },
        "id": "lPszUGV-k3q8"
      },
      "outputs": [],
      "source": [
        "newsgroups = fetch_20newsgroups(subset='train',remove=['headers','footers', 'quotes'])"
      ]
    },
    {
      "cell_type": "code",
      "execution_count": 23,
      "metadata": {
        "collapsed": true,
        "jupyter": {
          "outputs_hidden": true
        },
        "id": "T0Sigoi_k3q8"
      },
      "outputs": [],
      "source": [
        "data = newsgroups['data']\n",
        "target = newsgroups['target']"
      ]
    },
    {
      "cell_type": "markdown",
      "metadata": {
        "id": "7i5UnN9_k3q8"
      },
      "source": [
        "Преобразуйте текстовые данные из data с помощью [CountVectorizer](https://scikit-learn.org/stable/modules/generated/sklearn.feature_extraction.text.CountVectorizer.html). Словарь можно ограничить по частотности."
      ]
    },
    {
      "cell_type": "code",
      "execution_count": 24,
      "metadata": {
        "collapsed": true,
        "jupyter": {
          "outputs_hidden": true
        },
        "id": "gBRMaP7Sk3q8"
      },
      "outputs": [],
      "source": [
        "vectorizer = CountVectorizer(max_features = 1000)\n",
        "X = vectorizer.fit_transform(data)\n",
        "features_names = vectorizer.get_feature_names_out()\n",
        "vectorized_data = X.toarray()"
      ]
    },
    {
      "cell_type": "markdown",
      "metadata": {
        "id": "gP5nExaNk3q9"
      },
      "source": [
        "*Так мы получили векторное представление наших текстов. Значит можно приступать к задаче обучения модели*"
      ]
    },
    {
      "cell_type": "markdown",
      "metadata": {
        "id": "MFzWacMKk3q9"
      },
      "source": [
        "Реализуйте разбиение выборки для кросс-валидации на 3 фолдах. Разрешено использовать sklearn.cross_validation"
      ]
    },
    {
      "cell_type": "code",
      "execution_count": 26,
      "metadata": {
        "collapsed": true,
        "jupyter": {
          "outputs_hidden": true
        },
        "id": "VTq_yYdLk3q9"
      },
      "outputs": [],
      "source": [
        "from sklearn.model_selection import KFold\n",
        "\n",
        "def get_res_from_validation(num_folds, X, y, metric, trainer):\n",
        "    kf = KFold(n_splits=num_folds)\n",
        "    results = []\n",
        "    for train_index, test_index in kf.split(X):\n",
        "        X_train, X_test = X[train_index], X[test_index]\n",
        "        y_train, y_test = y[train_index], y[test_index]\n",
        "        trainer.fit(X_train, y_train)\n",
        "        pred_y = trainer.predict(X_test)\n",
        "        cur_metric = metric(pred_y, y_test)\n",
        "        results.append(cur_metric)\n",
        "    return results"
      ]
    },
    {
      "cell_type": "markdown",
      "metadata": {
        "id": "fRBKFDcFk3q-"
      },
      "source": [
        "Напишите метод, позволяющий найти оптимальное количество ближайших соседей(дающее максимальную точность в среднем на валидации на 3 фолдах).\n",
        "Постройте график зависимости средней точности от количества соседей. Можно рассмотреть число соседей от 1 до 10."
      ]
    },
    {
      "cell_type": "code",
      "source": [
        "def training_with_parameters(type_of_vectorizer, data, target):\n",
        "    if(type_of_vectorizer == 1):\n",
        "        vectorizer = CountVectorizer(max_features = 1000)\n",
        "    else:\n",
        "        vectorizer = TfidfVectorizer(max_features = 1000)\n",
        "    X = vectorizer.fit_transform(data)\n",
        "    features_names = vectorizer.get_feature_names_out()\n",
        "    vectorized_data = X.toarray()\n",
        "    brute_results_eucl = []\n",
        "    brute_results_cosine = []\n",
        "    cur_num_folds = 3\n",
        "    cur_algorithm = 'brute'\n",
        "    for cur_n_neighbors in range(1, 11):\n",
        "        #print(cur_n_neighbors)\n",
        "        for cur_metric in ['euclidean', 'cosine']:\n",
        "            #print(cur_metric)\n",
        "            my_clf = MyKNeighborsClassifier(n_neighbors=cur_n_neighbors, algorithm=cur_algorithm, metric=cur_metric)\n",
        "            results = get_res_from_validation(num_folds=cur_num_folds, X=vectorized_data, y=target, metric=accuracy_score, trainer=my_clf)\n",
        "            cur_res = np.mean(np.array(results))\n",
        "            if(cur_metric == 'euclidean'):\n",
        "                brute_results_eucl.append(cur_res)\n",
        "            else:\n",
        "                brute_results_cosine.append(cur_res)\n",
        "    return brute_results_eucl, brute_results_cosine"
      ],
      "metadata": {
        "id": "gGOqELZ1fCM7"
      },
      "execution_count": 27,
      "outputs": []
    },
    {
      "cell_type": "code",
      "source": [
        "CountVectorizer_brute_results_eucl, CountVectorizer_brute_results_cosine = training_with_parameters(1, data, target)\n",
        "tfidf_brute_results_eucl, tfidf__brute_results_cosine = training_with_parameters(2, data, target)"
      ],
      "metadata": {
        "id": "SMbTCbmFAA9H"
      },
      "execution_count": 28,
      "outputs": []
    },
    {
      "cell_type": "markdown",
      "metadata": {
        "id": "mXNmZK4bk3q-"
      },
      "source": [
        "Как изменится качество на валидации, если:\n",
        "\n",
        "1. Используется косинусная метрика вместо евклидовой.\n",
        "2. К текстам применяется TfIdf векторизацию( sklearn.feature_extraction.text.TfidfVectorizer)\n",
        "\n",
        "Сравните модели, выберите лучшую."
      ]
    },
    {
      "cell_type": "code",
      "source": [
        "plt.figure(figsize=(20,10))\n",
        "plt.plot(np.arange(1, 11), CountVectorizer_brute_results_eucl, label = \"line euclidean + count\")\n",
        "plt.plot(np.arange(1, 11), CountVectorizer_brute_results_cosine, label = \"line cosine + count\")\n",
        "plt.plot(np.arange(1, 11), tfidf_brute_results_eucl, label = \"line euclidean + tfidf\")\n",
        "plt.plot(np.arange(1, 11), tfidf__brute_results_cosine, label = \"line cosine + tfidf\")\n",
        "plt.legend(loc = 'best', fontsize = 'large')\n",
        "plt.show()"
      ],
      "metadata": {
        "colab": {
          "base_uri": "https://localhost:8080/",
          "height": 592
        },
        "id": "1-A9vixua7Wx",
        "outputId": "ef7ead32-9e65-4f76-c2ed-5ed430ab4b64"
      },
      "execution_count": 29,
      "outputs": [
        {
          "output_type": "display_data",
          "data": {
            "text/plain": [
              "<Figure size 1440x720 with 1 Axes>"
            ],
            "image/png": "[encoded data removed]"
          },
          "metadata": {
            "needs_background": "light"
          }
        }
      ]
    },
    {
      "cell_type": "markdown",
      "source": [
        "# Лучшая модель - cosine + tfidf + 10 как количество соседей"
      ],
      "metadata": {
        "id": "GCLb52M-k0mU"
      }
    },
    {
      "cell_type": "markdown",
      "metadata": {
        "id": "HN08Bsmik3q_"
      },
      "source": [
        "Загрузим  теперь test  часть нашей выборки и преобразуем её аналогично с train частью. Не забудьте, что наборы слов в train и test части могут отличаться."
      ]
    },
    {
      "cell_type": "code",
      "execution_count": 30,
      "metadata": {
        "collapsed": true,
        "jupyter": {
          "outputs_hidden": true
        },
        "id": "bmmtuA1Vk3q_"
      },
      "outputs": [],
      "source": [
        "newsgroups = fetch_20newsgroups(subset='test',remove=['headers','footers', 'quotes'])"
      ]
    },
    {
      "cell_type": "markdown",
      "metadata": {
        "id": "5KVu_Jplk3rA"
      },
      "source": [
        "Оценим точность вашей лучшей модели на test части датасета. Отличается ли оно от кросс-валидации? Попробуйте сделать выводы, почему отличается качество."
      ]
    },
    {
      "cell_type": "code",
      "execution_count": 31,
      "metadata": {
        "collapsed": true,
        "jupyter": {
          "outputs_hidden": true
        },
        "id": "QS9q4HjHk3rA"
      },
      "outputs": [],
      "source": [
        "data = newsgroups['data']\n",
        "target = newsgroups['target']"
      ]
    },
    {
      "cell_type": "code",
      "source": [
        "CountVectorizer_brute_results_eucl_test, CountVectorizer_brute_results_cosine_test = training_with_parameters(1, data, target)\n",
        "tfidf_brute_results_eucl_test, tfidf__brute_results_cosine_test = training_with_parameters(2, data, target)"
      ],
      "metadata": {
        "id": "WmxtlkvemnCY"
      },
      "execution_count": 32,
      "outputs": []
    },
    {
      "cell_type": "code",
      "source": [
        "plt.figure(figsize=(20,10))\n",
        "plt.plot(np.arange(1, 11), CountVectorizer_brute_results_eucl, label = \"line euclidean + count\")\n",
        "plt.plot(np.arange(1, 11), CountVectorizer_brute_results_cosine, label = \"line cosine + count\")\n",
        "plt.plot(np.arange(1, 11), tfidf_brute_results_eucl, label = \"line euclidean + tfidf\")\n",
        "plt.plot(np.arange(1, 11), tfidf__brute_results_cosine, label = \"line cosine + tfidf\")\n",
        "plt.plot(np.arange(1, 11), CountVectorizer_brute_results_eucl_test, label = \"line euclidean + count + test\")\n",
        "plt.plot(np.arange(1, 11), CountVectorizer_brute_results_cosine_test, label = \"line cosine + count + test\")\n",
        "plt.plot(np.arange(1, 11), tfidf_brute_results_eucl_test, label = \"line euclidean + tfidf + test\")\n",
        "plt.plot(np.arange(1, 11), tfidf__brute_results_cosine_test, label = \"line cosine + tfidf + test\")\n",
        "plt.legend(loc = 'best', fontsize = 'large')\n",
        "plt.show()"
      ],
      "metadata": {
        "colab": {
          "base_uri": "https://localhost:8080/",
          "height": 592
        },
        "id": "aqHztQbImtwm",
        "outputId": "536ba284-b563-49ab-fcfc-125a8b2beca5"
      },
      "execution_count": 33,
      "outputs": [
        {
          "output_type": "display_data",
          "data": {
            "text/plain": [
              "<Figure size 1440x720 with 1 Axes>"
            ],
            "image/png": "[encoded data removed]"
          },
          "metadata": {
            "needs_background": "light"
          }
        }
      ]
    },
    {
      "cell_type": "markdown",
      "source": [
        "### Результаты на тестовой выборке слегка ниже, чем на тренировачном наборе. Причиной этого скорее всего служит то, что этих (тестовых) данных алгоритм ранее не видел"
      ],
      "metadata": {
        "id": "VBku8znHrLuj"
      }
    }
  ],
  "metadata": {
    "kernelspec": {
      "display_name": "Python 3",
      "language": "python",
      "name": "python3"
    },
    "language_info": {
      "codemirror_mode": {
        "name": "ipython",
        "version": 3
      },
      "file_extension": ".py",
      "mimetype": "text/x-python",
      "name": "python",
      "nbconvert_exporter": "python",
      "pygments_lexer": "ipython3",
      "version": "3.7.3"
    },
    "colab": {
      "name": "Pyatkovskiy_KNN_hw1.ipynb",
      "provenance": [],
      "collapsed_sections": [],
      "include_colab_link": true
    }
  },
  "nbformat": 4,
  "nbformat_minor": 0
}