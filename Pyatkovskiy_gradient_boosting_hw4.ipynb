{
  "cells": [
    {
      "cell_type": "markdown",
      "metadata": {
        "id": "WEalnZ4dHYrS"
      },
      "source": [
        "### Алгоритмы интеллектуальной обработки больших объемов данных\n",
        "## Домашнее задание №4 - Градиентный бустинг\n"
      ]
    },
    {
      "cell_type": "markdown",
      "metadata": {
        "id": "97y2TRnyHYra"
      },
      "source": [
        "**Общая информация**\n",
        "\n",
        "**Срок сдачи:** 13 июня 2022, 08:30   \n",
        "**Штраф за опоздание:** -2 балла после 08:30 13 июня, -4 балла после 08:30 20 июня, -6 баллов после 08:30 24 мая, -8 баллов после 08:30 31 мая.\n",
        "\n",
        "При отправлении ДЗ указывайте фамилию в названии файла Присылать ДЗ необходимо в виде ссылки на свой github репозиторий на почту ml1.sphere@mail.ru с указанием темы в следующем формате:\n",
        "[ML0422, Задание 4] Фамилия Имя. \n",
        "\n",
        "\n",
        "Используйте данный Ipython Notebook при оформлении домашнего задания."
      ]
    },
    {
      "cell_type": "markdown",
      "metadata": {
        "id": "hXl2uzt9HYrb"
      },
      "source": [
        "##  Считаем производные для функций потерь (1 балл)"
      ]
    },
    {
      "cell_type": "markdown",
      "metadata": {
        "id": "oUSFk6pVHYrc"
      },
      "source": [
        "Мы будем реализовать градиентный бустинг для 3 функций потерь:\n",
        "\n",
        "1) MSE  $L(a(x_i), y_i) = (y_i - a(x_i)) ^ 2$\n",
        "\n",
        "2) Экспоненциальная  $L(a(x_i), y_i) = exp( -a(x_i) y_i), y_i \\in \\{-1, 1\\}$\n",
        "\n",
        "3) Логистическая  $L(a(x_i), y_i) = \\log (1 + exp( -a(x_i) y_i)), y_i \\in \\{-1, 1\\}$\n",
        "\n",
        "где $a(x_i)$ предсказание бустинга на итом объекте. \n",
        "\n",
        "Для каждой функции потерь напишите таргет, на который будет настраиваться каждое дерево в бустинге. "
      ]
    },
    {
      "cell_type": "markdown",
      "metadata": {
        "id": "yIbCyFsfHYrd"
      },
      "source": [
        "Ваше решение тут\n",
        "\n",
        "1) MSE: $\\frac{\\partial L}{\\partial F} = -2 * (y_i - a(x_i))$\n",
        "\n",
        "MSE target $(x_i, 2 * (y_i - a(x_i)))$\n",
        "\n",
        "2) Exponential: $\\frac{\\partial L}{\\partial L} = - y_i * exp^{-a(x_i) * y_i}$\n",
        "\n",
        "Exponential target $(x_i, y_i * exp^{-a(x_i) * y_i})$\n",
        "\n",
        "3) Binominal deviance / Cross-entropy: $\\frac{\\partial L}{\\partial F} = \\frac{-y_i}{1 + exp ^ {a(x_i * y_i)}}$ \n",
        "\n",
        "Binominal deviance / Cross-entropy target $(x_i, \\frac{y_i}{1 + exp ^ {a(x_i * y_i)}})$"
      ]
    },
    {
      "cell_type": "markdown",
      "metadata": {
        "id": "3KRcTC4xHYre"
      },
      "source": [
        "##  Реализуем градиентный бустинг (3 балла)"
      ]
    },
    {
      "cell_type": "markdown",
      "metadata": {
        "id": "XZ8sOrE9HYrf"
      },
      "source": [
        "Реализуйте класс градиентного бустинга для классификации. Ваша реализация бустинга должна работать по точности не более чем на 5 процентов хуже чем GradientBoostingClassifier из sklearn. \n"
      ]
    },
    {
      "cell_type": "markdown",
      "metadata": {
        "id": "dza9J9TOHYrg"
      },
      "source": [
        "Детали реализации:\n",
        "\n",
        "-- должно поддерживаться 3 функции потерь\n",
        "\n",
        "-- сами базовые алгоритмы(деревья, линейные модели и тп) реализовать не надо, просто возьмите готовые из sklearn\n",
        "\n",
        "-- в качестве функции потерь для построения одного дерева используйте MSE\n",
        "\n",
        "-- шаг в бустинге можно не подбирать, можно брать константный\n",
        "\n",
        "-- можно брать разные модели в качестве инициализации бустинга\n",
        "\n",
        "-- должны поддерживаться следующие параметры:\n",
        "\n",
        "а) число итераций\n",
        "б) размер шага\n",
        "в) процент случайных фичей при построении одного дерева\n",
        "д) процент случайных объектов при построении одного дерева\n",
        "е) параметры базового алгоритма (передавайте через **kwargs)"
      ]
    },
    {
      "cell_type": "code",
      "execution_count": null,
      "metadata": {
        "collapsed": true,
        "jupyter": {
          "outputs_hidden": true
        },
        "id": "2GPvs2kmHYrh"
      },
      "outputs": [],
      "source": [
        "import numpy as np\n",
        "from tqdm import tqdm\n",
        "from sklearn.datasets import load_wine\n",
        "from sklearn.ensemble import GradientBoostingClassifier, RandomForestClassifier, RandomForestRegressor \n",
        "from sklearn.metrics import accuracy_score\n",
        "from sklearn.model_selection import train_test_split\n",
        "from sklearn.tree import DecisionTreeRegressor\n",
        "import copy"
      ]
    },
    {
      "cell_type": "code",
      "source": [
        "SEED = 15\n",
        "np.random.seed(SEED)"
      ],
      "metadata": {
        "id": "1puMQFB42kl-"
      },
      "execution_count": null,
      "outputs": []
    },
    {
      "cell_type": "code",
      "execution_count": null,
      "metadata": {
        "collapsed": true,
        "jupyter": {
          "outputs_hidden": true
        },
        "id": "UUL5n_HiHYrk"
      },
      "outputs": [],
      "source": [
        "class MyGradientBoostingClassifier:\n",
        "\n",
        "    def __init__(self, loss='MSE', learning_rate=1e-1, n_estimators=100, colsample=1., subsample=1., random_state=15, *args, **kwargs):\n",
        "        \"\"\"\n",
        "        loss -- один из 3 лоссов:\n",
        "        learning_rate -- шаг бустинга\n",
        "        n_estimators -- число итераций\n",
        "        colsample -- процент рандомных признаков при обучнеии одного алгоритма\n",
        "        colsample -- процент рандомных объектов при обучнеии одного алгоритма\n",
        "        args, kwargs -- параметры  базовых моделей\n",
        "        \"\"\"\n",
        "        self.loss = loss\n",
        "        self.learning_rate = learning_rate\n",
        "        self.n_estimators = n_estimators\n",
        "        self.colsample = colsample\n",
        "        self.subsample = subsample\n",
        "        self.args = args\n",
        "        self.kwargs = kwargs\n",
        "        self.model_ensemble = []\n",
        "        self.feature_idx = []\n",
        "        self.random_state=random_state\n",
        "        pass\n",
        "    \n",
        "    def losses_target_definition(self):\n",
        "        if(self.loss == 'MSE'):\n",
        "            return lambda a, y: 2 * (y - a)\n",
        "        elif(self.loss == 'Exponential'):\n",
        "            return lambda a, y: y * np.exp(-a * y)\n",
        "        elif(self.loss == 'Deviance'):\n",
        "            return lambda a, y: y / (1 + np.exp(a * y))\n",
        "\n",
        "    def modify_data(self, Y, to_train = 1):\n",
        "        if(np.unique(Y) == np.array([0, 1])):\n",
        "            if(to_train):\n",
        "                return (Y - 0.5) * 2\n",
        "            else:\n",
        "                return (Y + 1) // 2\n",
        "\n",
        "    def fit(self, X, y_orig, base_model=DecisionTreeRegressor, init_model=None):\n",
        "        \"\"\"\n",
        "        X -- объекты для обучения:\n",
        "        y -- таргеты для обучения\n",
        "        base_model -- класс базовых моделей, например sklearn.tree.DecisionTreeRegressor\n",
        "        init_model -- класс для первой модели, если None то берем константу (только для посл задания)\n",
        "        \"\"\"\n",
        "        self.base_model = base_model\n",
        "        self.init_model = init_model\n",
        "        self.target_func = self.losses_target_definition()\n",
        "        self.bin_task = False\n",
        "        y = copy.deepcopy(y_orig)\n",
        "        if(len(np.unique(y)) == 2):\n",
        "            self.bin_task = True\n",
        "            idx_0 = np.where(y == 0)\n",
        "            y[idx_0] = -1\n",
        "            idx_1 = np.where(y == 1)\n",
        "            idx_1 = 1\n",
        "\n",
        "        if(init_model is None):\n",
        "            f = np.zeros(X.shape[0])\n",
        "        else:\n",
        "            init_model_clf = init_model()\n",
        "            init_model_clf.fit(X, y)\n",
        "            f = init_model_clf.predict(X)\n",
        "        for i in range(self.n_estimators):\n",
        "            cur_sample_idx = np.random.choice(np.arange(X.shape[0]), size=round(X.shape[0] * self.colsample), replace=False)\n",
        "            cur_feature_idx = np.random.choice(np.arange(X.shape[1]), size=round(X.shape[1] * self.subsample), replace=False)\n",
        "            self.feature_idx.append(cur_feature_idx)\n",
        "            X_cur = X[np.ix_(cur_sample_idx, cur_feature_idx)]\n",
        "            Y_modified_cur = y[cur_sample_idx]\n",
        "            Y_antigrad = self.target_func(f[cur_sample_idx], Y_modified_cur)\n",
        "            cur_model = self.base_model(*self.args, **self.kwargs, random_state=self.random_state)\n",
        "            cur_model.fit(X_cur, Y_antigrad)\n",
        "            f[cur_sample_idx] += self.learning_rate * cur_model.predict(X_cur)\n",
        "            self.model_ensemble.append(cur_model)\n",
        "        pass\n",
        "        \n",
        "    def predict(self, X):\n",
        "        if(self.init_model is None):\n",
        "            f0 = np.zeros(X.shape[0])\n",
        "        else:\n",
        "            f0 = np.asarray(self.init_model.predict(X))\n",
        "        f =  np.zeros(X.shape[0])\n",
        "        for i in range(self.n_estimators):\n",
        "            f += self.model_ensemble[i].predict(X[:, self.feature_idx[i]])\n",
        "        f *= self.learning_rate\n",
        "        f += f0\n",
        "        f = f.round()\n",
        "        if(self.bin_task):\n",
        "            f[f >= 0] = 1\n",
        "            f[f < 0] = 0\n",
        "        return f"
      ]
    },
    {
      "cell_type": "code",
      "execution_count": null,
      "metadata": {
        "id": "0yngAFlbHYrl"
      },
      "outputs": [],
      "source": [
        "my_clf = MyGradientBoostingClassifier(random_state=SEED)\n",
        "clf = GradientBoostingClassifier(random_state=SEED)"
      ]
    },
    {
      "cell_type": "code",
      "execution_count": null,
      "metadata": {
        "collapsed": true,
        "jupyter": {
          "outputs_hidden": true
        },
        "id": "hWP2pmNaHYrm"
      },
      "outputs": [],
      "source": [
        "wine = load_wine()\n",
        "X_train, X_test, y_train, y_test = train_test_split(wine.data, wine.target, test_size=0.1, stratify=wine.target, random_state=SEED)"
      ]
    },
    {
      "cell_type": "code",
      "execution_count": null,
      "metadata": {
        "colab": {
          "base_uri": "https://localhost:8080/"
        },
        "id": "_mG2MWTnHYrm",
        "outputId": "ea4b6f6e-7cb2-4dee-bf14-c88c423c1891"
      },
      "outputs": [
        {
          "output_type": "stream",
          "name": "stdout",
          "text": [
            "0.8888888888888888\n",
            "0.8888888888888888\n"
          ]
        }
      ],
      "source": [
        "my_clf.fit(X_train, y_train)\n",
        "clf.fit(X_train, y_train)\n",
        "print(accuracy_score(y_pred=clf.predict(X_test), y_true=y_test))\n",
        "print(accuracy_score(y_pred=my_clf.predict(X_test), y_true=y_test))"
      ]
    },
    {
      "cell_type": "markdown",
      "metadata": {
        "id": "MmcDzTCRHYrn"
      },
      "source": [
        "## Подбираем параметры (2 балла)\n",
        "\n",
        "Давайте попробуем применить Ваш бустинг для предсказаний цены домов в Калифорнии. Чтобы можно было попробовтаь разные функции потерь, переведем по порогу таргет в 2 класса: дорогие и дешевые дома."
      ]
    },
    {
      "cell_type": "markdown",
      "metadata": {
        "id": "SQasCUdPHYro"
      },
      "source": [
        "В задании нужно\n",
        "\n",
        "1) Построить график точности в зависимости от числа итераций на валидации.\n",
        "\n",
        "2) Подобрать оптимальные параметры Вашего бустинга на валидации. \n"
      ]
    },
    {
      "cell_type": "code",
      "source": [
        "from sklearn.model_selection import StratifiedKFold\n",
        "from sklearn.datasets import fetch_california_housing\n"
      ],
      "metadata": {
        "id": "bDBl40_UExlW"
      },
      "execution_count": null,
      "outputs": []
    },
    {
      "cell_type": "code",
      "source": [
        "def process_res(y):\n",
        "    return (y > 2.0).astype(int)"
      ],
      "metadata": {
        "id": "EnHNdVkJJgeP"
      },
      "execution_count": null,
      "outputs": []
    },
    {
      "cell_type": "code",
      "execution_count": null,
      "metadata": {
        "id": "siozslhOHYro",
        "colab": {
          "base_uri": "https://localhost:8080/"
        },
        "outputId": "9cd44fac-1530-47c5-da7f-d441fc301495"
      },
      "outputs": [
        {
          "output_type": "stream",
          "name": "stdout",
          "text": [
            "(20640, 8) (20640,)\n"
          ]
        }
      ],
      "source": [
        "X, y = fetch_california_housing(return_X_y=True)\n",
        "# Превращаем регрессию в классификацию\n",
        "y = process_res(y)\n",
        "print(X.shape, y.shape)"
      ]
    },
    {
      "cell_type": "code",
      "source": [
        "opti_params = {\n",
        "        'MSE': {\n",
        "            \"n_estimators\": 4,\n",
        "            \"learning_rate\": 1e-1,\n",
        "            \"subsample\": 1.0,\n",
        "            \"colsample\": 1.0,\n",
        "        },\n",
        "        'Exponential' : {\n",
        "            \"n_estimators\": 4,\n",
        "            \"learning_rate\": 1e-1,\n",
        "            \"subsample\": 1.0,\n",
        "            \"colsample\": 1.0,\n",
        "        },\n",
        "        'Deviance': {\n",
        "            \"n_estimators\": 4,\n",
        "            \"learning_rate\": 1e-1,\n",
        "            \"subsample\": 1.0,\n",
        "            \"colsample\": 1.0,\n",
        "        },\n",
        "\n",
        "    }"
      ],
      "metadata": {
        "id": "_EZ1IPHUcegP"
      },
      "execution_count": null,
      "outputs": []
    },
    {
      "cell_type": "code",
      "source": [
        "def validation_score(my_clf, X, y, random_state=3, num_split=4, base_model=DecisionTreeRegressor, *args, **kwargs):\n",
        "    skf = StratifiedKFold(n_splits=num_split, shuffle=True, random_state=random_state)\n",
        "    scores = []\n",
        "    for train_index, test_index in tqdm(skf.split(X, y)):\n",
        "        X_train, X_test = X[train_index], X[test_index]\n",
        "        y_train, y_test = y[train_index], y[test_index]\n",
        "        my_clf.fit(X_train, y_train,base_model=base_model)\n",
        "        y_predictions = my_clf.predict(X_test)\n",
        "        cur_score = accuracy_score(y_pred=y_predictions, y_true=y_test)\n",
        "        scores.append(cur_score)\n",
        "    return sum(scores) / len(scores)"
      ],
      "metadata": {
        "id": "c1xDBMXyEFCA"
      },
      "execution_count": null,
      "outputs": []
    },
    {
      "cell_type": "code",
      "execution_count": null,
      "metadata": {
        "collapsed": true,
        "jupyter": {
          "outputs_hidden": true
        },
        "id": "CJd4I-HXHYrr",
        "colab": {
          "base_uri": "https://localhost:8080/"
        },
        "outputId": "88557839-6f35-45cd-aa1a-4e108b041a81"
      },
      "outputs": [
        {
          "output_type": "stream",
          "name": "stderr",
          "text": [
            "4it [00:11,  2.84s/it]\n",
            "4it [00:21,  5.46s/it]\n",
            "4it [00:36,  9.17s/it]\n",
            "4it [00:43, 10.91s/it]\n",
            "4it [00:45, 11.29s/it]\n",
            "4it [00:45, 11.41s/it]\n",
            "4it [00:45, 11.47s/it]\n",
            "4it [00:12,  3.01s/it]\n",
            "4it [00:23,  5.82s/it]\n",
            "4it [00:34,  8.56s/it]\n",
            "4it [00:44, 11.25s/it]\n",
            "4it [00:56, 14.09s/it]\n",
            "4it [01:06, 16.58s/it]\n",
            "4it [01:16, 19.24s/it]\n",
            "4it [00:11,  2.85s/it]\n",
            "4it [00:22,  5.71s/it]\n",
            "4it [00:33,  8.45s/it]\n",
            "4it [00:44, 11.17s/it]\n",
            "4it [00:56, 14.06s/it]\n",
            "4it [01:06, 16.62s/it]\n",
            "4it [01:16, 19.23s/it]\n"
          ]
        }
      ],
      "source": [
        "scores_history = {\n",
        "    'MSE': [],\n",
        "    'Exponential' : [],\n",
        "    'Deviance': []\n",
        "}\n",
        "\n",
        "number_of_estimators = np.arange(20, 160, 20)\n",
        "num_split = 4\n",
        "for cur_loss in scores_history:\n",
        "    for cur_num_estimators in number_of_estimators:\n",
        "        my_clf = MyGradientBoostingClassifier(random_state=SEED, n_estimators=cur_num_estimators, loss=cur_loss)\n",
        "        cur_score = validation_score(my_clf=my_clf, X=X, y=y, random_state=SEED, num_split=num_split)\n",
        "        scores_history[cur_loss].append(cur_score)"
      ]
    },
    {
      "cell_type": "code",
      "source": [
        "import matplotlib.pyplot as plt\n",
        "import numpy as np\n",
        "\n",
        "\n",
        "fig=plt.figure()\n",
        "fig.show()\n",
        "ax=fig.add_subplot(111)\n",
        "\n",
        "ax.plot(number_of_estimators, scores_history['MSE'], color='b',label='MSE')\n",
        "ax.plot(number_of_estimators, scores_history['Exponential'], color='k', label='Exponential')\n",
        "ax.plot(number_of_estimators, scores_history['Deviance'], color='m', label='Deviance')\n",
        "\n",
        "plt.legend(loc=2)\n",
        "plt.draw()\n"
      ],
      "metadata": {
        "colab": {
          "base_uri": "https://localhost:8080/",
          "height": 268
        },
        "id": "WUb8AEggIZos",
        "outputId": "8b40adba-9411-4f2a-f50b-efce3c3f2ffa"
      },
      "execution_count": null,
      "outputs": [
        {
          "output_type": "display_data",
          "data": {
            "text/plain": [
              "<Figure size 432x288 with 1 Axes>"
            ],
            "image/png": "[encoded data removed]"
          },
          "metadata": {
            "needs_background": "light"
          }
        }
      ]
    },
    {
      "cell_type": "code",
      "source": [
        "for cur_loss in opti_params.keys():\n",
        "    max_val = max(scores_history[cur_loss])\n",
        "    idx_max = np.argmax(np.array(scores_history[cur_loss]))\n",
        "    best_param_val = number_of_estimators[idx_max]\n",
        "    opti_params[cur_loss]['n_estimators'] = best_param_val\n",
        "    print('loss - {0}, parameters - {1}: score: {2}'.format(cur_loss, opti_params[cur_loss], max_val))"
      ],
      "metadata": {
        "colab": {
          "base_uri": "https://localhost:8080/"
        },
        "id": "NtFUW9Y7cbIT",
        "outputId": "d8bdc477-73b4-441e-c08a-107a333817e3"
      },
      "execution_count": null,
      "outputs": [
        {
          "output_type": "stream",
          "name": "stdout",
          "text": [
            "loss - MSE, parameters - {'n_estimators': 100, 'learning_rate': 0.1, 'subsample': 1.0, 'colsample': 1.0}: score: 0.9573643410852714\n",
            "loss - Exponential, parameters - {'n_estimators': 100, 'learning_rate': 0.1, 'subsample': 1.0, 'colsample': 1.0}: score: 0.9575581395348838\n",
            "loss - Deviance, parameters - {'n_estimators': 140, 'learning_rate': 0.1, 'subsample': 1.0, 'colsample': 1.0}: score: 0.9577519379844961\n"
          ]
        }
      ]
    },
    {
      "cell_type": "code",
      "source": [
        "'''\n",
        "В качестве гиперпараметров подбираются:\n",
        "- learning rate\n",
        "- colsample\n",
        "- subsample\n",
        "Рассматриваются все вариации с loss-ми\n",
        "Гиперпараметер number_of_estimators уже подобран для разных конфигураций с loss-ми\n",
        "'''"
      ],
      "metadata": {
        "colab": {
          "base_uri": "https://localhost:8080/",
          "height": 36
        },
        "id": "syJSsBnKIZx8",
        "outputId": "807037b5-a805-4632-9fa1-13857b7d8449"
      },
      "execution_count": null,
      "outputs": [
        {
          "output_type": "execute_result",
          "data": {
            "text/plain": [
              "'\\nВ качестве гиперпараметров подбираются:\\n- learning rate\\n- colsample\\n- subsample\\nРассматриваются все вариации с loss-ми\\nГиперпараметер number_of_estimators уже подобран для разных конфигураций с loss-ми\\n'"
            ],
            "application/vnd.google.colaboratory.intrinsic+json": {
              "type": "string"
            }
          },
          "metadata": {},
          "execution_count": 86
        }
      ]
    },
    {
      "cell_type": "code",
      "source": [
        "def grid_search(opti_parameter, optimization_grid, opti_params, X, y, random_state=3):\n",
        "\n",
        "    scores_history = {\n",
        "        'MSE': [],\n",
        "        'Exponential' : [],\n",
        "        'Deviance': []\n",
        "    }\n",
        "\n",
        "    for cur_loss in opti_params.keys():\n",
        "        for cur_opt_parameter in optimization_grid:\n",
        "            opti_params[cur_loss][opti_parameter] = cur_opt_parameter\n",
        "            my_clf = MyGradientBoostingClassifier(random_state=SEED, \n",
        "                                                  n_estimators=opti_params[cur_loss]['n_estimators'],\n",
        "                                                  learning_rate=opti_params[cur_loss]['learning_rate'],\n",
        "                                                  subsample=opti_params[cur_loss]['subsample'],\n",
        "                                                  colsample=opti_params[cur_loss]['colsample'])\n",
        "            cur_score = validation_score(my_clf=my_clf, X=X, y=y, random_state=random_state)\n",
        "            scores_history[cur_loss].append(cur_score)\n",
        "\n",
        "    return scores_history"
      ],
      "metadata": {
        "id": "AWToyZWlKyl7"
      },
      "execution_count": null,
      "outputs": []
    },
    {
      "cell_type": "code",
      "source": [
        "cur_opti_parameter = 'learning_rate'\n",
        "optimization_grid = np.linspace(1e-4, 1., num=20)\n",
        "lr_history = grid_search(opti_parameter=cur_opti_parameter, optimization_grid=optimization_grid, opti_params=opti_params, X=X, y=y, random_state=SEED)\n",
        "for cur_loss in opti_params.keys():\n",
        "    max_val = max(lr_history[cur_loss])\n",
        "    idx_max = np.argmax(np.array(lr_history[cur_loss]))\n",
        "    best_lr = optimization_grid[idx_max]\n",
        "    opti_params[cur_loss][cur_opti_parameter] = best_lr\n",
        "    print('loss - {0}, parameters - {1}: score: {2}'.format(cur_loss, opti_params[cur_loss], max_val))"
      ],
      "metadata": {
        "colab": {
          "base_uri": "https://localhost:8080/"
        },
        "id": "X-iV-d8HPDkv",
        "outputId": "8baff9a9-8dd2-4d33-a023-6697798399da"
      },
      "execution_count": null,
      "outputs": [
        {
          "output_type": "stream",
          "name": "stderr",
          "text": [
            "4it [01:01, 15.34s/it]\n",
            "4it [00:53, 13.46s/it]\n",
            "4it [00:43, 10.84s/it]\n",
            "4it [00:27,  6.90s/it]\n",
            "4it [00:19,  4.86s/it]\n",
            "4it [00:14,  3.64s/it]\n",
            "4it [00:11,  2.82s/it]\n",
            "4it [00:08,  2.23s/it]\n",
            "4it [00:07,  1.75s/it]\n",
            "4it [00:05,  1.26s/it]\n",
            "4it [00:05,  1.29s/it]\n",
            "4it [00:06,  1.75s/it]\n",
            "4it [00:08,  2.21s/it]\n",
            "4it [00:11,  2.83s/it]\n",
            "4it [00:14,  3.64s/it]\n",
            "4it [00:19,  4.94s/it]\n",
            "4it [00:27,  6.89s/it]\n",
            "4it [00:43, 10.82s/it]\n",
            "4it [00:53, 13.46s/it]\n",
            "4it [00:53, 13.39s/it]\n",
            "4it [01:01, 15.31s/it]\n",
            "4it [00:53, 13.49s/it]\n",
            "4it [00:42, 10.69s/it]\n",
            "4it [00:27,  6.84s/it]\n",
            "4it [00:19,  4.86s/it]\n",
            "4it [00:14,  3.64s/it]\n",
            "4it [00:11,  2.83s/it]\n",
            "4it [00:08,  2.22s/it]\n",
            "4it [00:06,  1.75s/it]\n",
            "4it [00:05,  1.26s/it]\n",
            "4it [00:05,  1.27s/it]\n",
            "4it [00:07,  1.76s/it]\n",
            "4it [00:09,  2.39s/it]\n",
            "4it [00:11,  2.83s/it]\n",
            "4it [00:14,  3.64s/it]\n",
            "4it [00:19,  4.89s/it]\n",
            "4it [00:27,  6.86s/it]\n",
            "4it [00:44, 11.23s/it]\n",
            "4it [00:53, 13.39s/it]\n",
            "4it [00:52, 13.21s/it]\n",
            "4it [01:26, 21.66s/it]\n",
            "4it [01:15, 18.77s/it]\n",
            "4it [00:43, 10.80s/it]\n",
            "4it [00:27,  6.98s/it]\n",
            "4it [00:20,  5.01s/it]\n",
            "4it [00:15,  3.78s/it]\n",
            "4it [00:11,  2.97s/it]\n",
            "4it [00:09,  2.36s/it]\n",
            "4it [00:07,  1.88s/it]\n",
            "4it [00:05,  1.39s/it]\n",
            "4it [00:05,  1.40s/it]\n",
            "4it [00:07,  1.88s/it]\n",
            "4it [00:09,  2.33s/it]\n",
            "4it [00:11,  2.97s/it]\n",
            "4it [00:15,  3.80s/it]\n",
            "4it [00:20,  5.21s/it]\n",
            "4it [00:28,  7.00s/it]\n",
            "4it [00:43, 10.95s/it]\n",
            "4it [01:14, 18.68s/it]\n",
            "4it [01:14, 18.51s/it]"
          ]
        },
        {
          "output_type": "stream",
          "name": "stdout",
          "text": [
            "loss - MSE, parameters - {'n_estimators': 100, 'learning_rate': 0.2632315789473684, 'subsample': 1.0, 'colsample': 1.0}: score: 0.9582364341085271\n",
            "loss - Exponential, parameters - {'n_estimators': 100, 'learning_rate': 0.4737368421052632, 'subsample': 1.0, 'colsample': 1.0}: score: 0.9579941860465117\n",
            "loss - Deviance, parameters - {'n_estimators': 140, 'learning_rate': 0.5263631578947369, 'subsample': 1.0, 'colsample': 1.0}: score: 0.958139534883721\n"
          ]
        },
        {
          "output_type": "stream",
          "name": "stderr",
          "text": [
            "\n"
          ]
        }
      ]
    },
    {
      "cell_type": "code",
      "source": [
        "cur_opti_parameter = 'subsample'\n",
        "optimization_grid = np.linspace(0.5, 1., num=20)\n",
        "subsample_history = grid_search(opti_parameter=cur_opti_parameter, optimization_grid=optimization_grid, opti_params=opti_params, X=X, y=y, random_state=SEED)\n",
        "for cur_loss in opti_params.keys():\n",
        "    max_val = max(lr_history[cur_loss])\n",
        "    idx_max = np.argmax(np.array(subsample_history[cur_loss]))\n",
        "    best_param_val = optimization_grid[idx_max]\n",
        "    opti_params[cur_loss][cur_opti_parameter] = best_param_val\n",
        "    print('loss - {0}, parameters - {1}: score: {2}'.format(cur_loss, opti_params[cur_loss], max_val))"
      ],
      "metadata": {
        "colab": {
          "base_uri": "https://localhost:8080/"
        },
        "id": "_pWah_F1IZ7D",
        "outputId": "aeea21fc-6d7d-4628-afc7-c93978b57346"
      },
      "execution_count": null,
      "outputs": [
        {
          "output_type": "stream",
          "name": "stderr",
          "text": [
            "4it [00:08,  2.01s/it]\n",
            "4it [00:08,  2.03s/it]\n",
            "4it [00:07,  1.96s/it]\n",
            "4it [00:09,  2.38s/it]\n",
            "4it [00:09,  2.37s/it]\n",
            "4it [00:09,  2.35s/it]\n",
            "4it [00:09,  2.37s/it]\n",
            "4it [00:09,  2.41s/it]\n",
            "4it [00:11,  2.97s/it]\n",
            "4it [00:11,  2.79s/it]\n",
            "4it [00:11,  2.77s/it]\n",
            "4it [00:11,  2.77s/it]\n",
            "4it [00:12,  3.22s/it]\n",
            "4it [00:12,  3.23s/it]\n",
            "4it [00:12,  3.17s/it]\n",
            "4it [00:12,  3.20s/it]\n",
            "4it [00:12,  3.21s/it]\n",
            "4it [00:14,  3.65s/it]\n",
            "4it [00:14,  3.65s/it]\n",
            "4it [00:14,  3.65s/it]\n",
            "4it [00:03,  1.31it/s]\n",
            "4it [00:03,  1.31it/s]\n",
            "4it [00:03,  1.33it/s]\n",
            "4it [00:03,  1.12it/s]\n",
            "4it [00:03,  1.14it/s]\n",
            "4it [00:03,  1.15it/s]\n",
            "4it [00:03,  1.14it/s]\n",
            "4it [00:03,  1.14it/s]\n",
            "4it [00:03,  1.01it/s]\n",
            "4it [00:03,  1.02it/s]\n",
            "4it [00:03,  1.02it/s]\n",
            "4it [00:03,  1.00it/s]\n",
            "4it [00:04,  1.12s/it]\n",
            "4it [00:04,  1.12s/it]\n",
            "4it [00:04,  1.13s/it]\n",
            "4it [00:04,  1.14s/it]\n",
            "4it [00:04,  1.14s/it]\n",
            "4it [00:05,  1.27s/it]\n",
            "4it [00:05,  1.29s/it]\n",
            "4it [00:05,  1.27s/it]\n",
            "4it [00:03,  1.17it/s]\n",
            "4it [00:03,  1.14it/s]\n",
            "4it [00:03,  1.15it/s]\n",
            "4it [00:04,  1.01s/it]\n",
            "4it [00:04,  1.01s/it]\n",
            "4it [00:03,  1.00it/s]\n",
            "4it [00:03,  1.02it/s]\n",
            "4it [00:03,  1.02it/s]\n",
            "4it [00:04,  1.13s/it]\n",
            "4it [00:04,  1.17s/it]\n",
            "4it [00:04,  1.14s/it]\n",
            "4it [00:04,  1.16s/it]\n",
            "4it [00:05,  1.28s/it]\n",
            "4it [00:05,  1.27s/it]\n",
            "4it [00:05,  1.29s/it]\n",
            "4it [00:05,  1.28s/it]\n",
            "4it [00:05,  1.29s/it]\n",
            "4it [00:06,  1.62s/it]\n",
            "4it [00:05,  1.42s/it]\n",
            "4it [00:05,  1.41s/it]"
          ]
        },
        {
          "output_type": "stream",
          "name": "stdout",
          "text": [
            "loss - MSE, parameters - {'n_estimators': 100, 'learning_rate': 0.2632315789473684, 'subsample': 0.5263157894736842, 'colsample': 1.0}: score: 0.9582364341085271\n",
            "loss - Exponential, parameters - {'n_estimators': 100, 'learning_rate': 0.4737368421052632, 'subsample': 0.7894736842105263, 'colsample': 1.0}: score: 0.9579941860465117\n",
            "loss - Deviance, parameters - {'n_estimators': 140, 'learning_rate': 0.5263631578947369, 'subsample': 0.8421052631578947, 'colsample': 1.0}: score: 0.958139534883721\n"
          ]
        },
        {
          "output_type": "stream",
          "name": "stderr",
          "text": [
            "\n"
          ]
        }
      ]
    },
    {
      "cell_type": "code",
      "source": [
        "cur_opti_parameter = 'colsample'\n",
        "optimization_grid = np.linspace(0.5, 1., num=20)\n",
        "colsample_history = grid_search(opti_parameter=cur_opti_parameter, optimization_grid=optimization_grid, opti_params=opti_params, X=X, y=y, random_state=SEED)\n",
        "for cur_loss in opti_params.keys():\n",
        "    max_val = max(lr_history[cur_loss])\n",
        "    idx_max = np.argmax(np.array(colsample_history[cur_loss]))\n",
        "    best_param_val = optimization_grid[idx_max]\n",
        "    opti_params[cur_loss][cur_opti_parameter] = best_param_val\n",
        "    print('loss - {0}, parameters - {1}: score: {2}'.format(cur_loss, opti_params[cur_loss], max_val))"
      ],
      "metadata": {
        "colab": {
          "base_uri": "https://localhost:8080/"
        },
        "id": "7dnMUK48U2Nv",
        "outputId": "1fa3cc1e-cf82-4e16-92a6-b99465322fd0"
      },
      "execution_count": null,
      "outputs": [
        {
          "output_type": "stream",
          "name": "stderr",
          "text": [
            "4it [00:14,  3.52s/it]\n",
            "4it [00:13,  3.45s/it]\n",
            "4it [00:14,  3.55s/it]\n",
            "4it [00:13,  3.44s/it]\n",
            "4it [00:13,  3.43s/it]\n",
            "4it [00:13,  3.35s/it]\n",
            "4it [00:13,  3.40s/it]\n",
            "4it [00:13,  3.36s/it]\n",
            "4it [00:13,  3.34s/it]\n",
            "4it [00:13,  3.30s/it]\n",
            "4it [00:12,  3.23s/it]\n",
            "4it [00:12,  3.21s/it]\n",
            "4it [00:12,  3.11s/it]\n",
            "4it [00:12,  3.12s/it]\n",
            "4it [00:12,  3.02s/it]\n",
            "4it [00:11,  2.90s/it]\n",
            "4it [00:11,  2.87s/it]\n",
            "4it [00:10,  2.69s/it]\n",
            "4it [00:10,  2.56s/it]\n",
            "4it [00:08,  2.02s/it]\n",
            "4it [00:08,  2.11s/it]\n",
            "4it [00:08,  2.13s/it]\n",
            "4it [00:08,  2.10s/it]\n",
            "4it [00:08,  2.11s/it]\n",
            "4it [00:09,  2.30s/it]\n",
            "4it [00:08,  2.09s/it]\n",
            "4it [00:08,  2.09s/it]\n",
            "4it [00:08,  2.06s/it]\n",
            "4it [00:08,  2.05s/it]\n",
            "4it [00:08,  2.06s/it]\n",
            "4it [00:07,  1.97s/it]\n",
            "4it [00:07,  1.97s/it]\n",
            "4it [00:07,  1.92s/it]\n",
            "4it [00:07,  1.93s/it]\n",
            "4it [00:07,  1.87s/it]\n",
            "4it [00:07,  1.82s/it]\n",
            "4it [00:06,  1.72s/it]\n",
            "4it [00:06,  1.61s/it]\n",
            "4it [00:05,  1.41s/it]\n",
            "4it [00:04,  1.01s/it]\n",
            "4it [00:10,  2.70s/it]\n",
            "4it [00:11,  2.79s/it]\n",
            "4it [00:10,  2.67s/it]\n",
            "4it [00:10,  2.68s/it]\n",
            "4it [00:10,  2.67s/it]\n",
            "4it [00:10,  2.72s/it]\n",
            "4it [00:10,  2.65s/it]\n",
            "4it [00:10,  2.67s/it]\n",
            "4it [00:10,  2.65s/it]\n",
            "4it [00:10,  2.68s/it]\n",
            "4it [00:10,  2.58s/it]\n",
            "4it [00:10,  2.58s/it]\n",
            "4it [00:10,  2.51s/it]\n",
            "4it [00:09,  2.50s/it]\n",
            "4it [00:09,  2.48s/it]\n",
            "4it [00:10,  2.57s/it]\n",
            "4it [00:09,  2.34s/it]\n",
            "4it [00:09,  2.25s/it]\n",
            "4it [00:08,  2.07s/it]\n",
            "4it [00:05,  1.29s/it]"
          ]
        },
        {
          "output_type": "stream",
          "name": "stdout",
          "text": [
            "loss - MSE, parameters - {'n_estimators': 100, 'learning_rate': 0.2632315789473684, 'subsample': 0.5263157894736842, 'colsample': 0.8947368421052632}: score: 0.9582364341085271\n",
            "loss - Exponential, parameters - {'n_estimators': 100, 'learning_rate': 0.4737368421052632, 'subsample': 0.7894736842105263, 'colsample': 1.0}: score: 0.9579941860465117\n",
            "loss - Deviance, parameters - {'n_estimators': 140, 'learning_rate': 0.5263631578947369, 'subsample': 0.8421052631578947, 'colsample': 1.0}: score: 0.958139534883721\n"
          ]
        },
        {
          "output_type": "stream",
          "name": "stderr",
          "text": [
            "\n"
          ]
        }
      ]
    },
    {
      "cell_type": "markdown",
      "metadata": {
        "id": "61cDbm_-HYrr"
      },
      "source": [
        "## BooBag BagBoo (1 балл)\n",
        "\n"
      ]
    },
    {
      "cell_type": "markdown",
      "metadata": {
        "id": "XrwBV-wrHYrr"
      },
      "source": [
        "Попробуем объединить бустинг и бэгинг. Давайте\n",
        "\n",
        "1) в качестве базовой модели брать не дерево решений, а случайный лес (из sklearn)\n",
        "\n",
        "2) обучать N бустингов на бустрапированной выборке, а затем предикт усреднять"
      ]
    },
    {
      "cell_type": "markdown",
      "metadata": {
        "id": "Q835vZqpHYrs"
      },
      "source": [
        "Попробуйте обе этих стратегии на данных из прошлого задания. Получилось ли улучшить качество? Почему?"
      ]
    },
    {
      "cell_type": "code",
      "source": [
        "from sklearn.datasets import fetch_california_housing"
      ],
      "metadata": {
        "id": "_0Y3lLAB1fN3"
      },
      "execution_count": null,
      "outputs": []
    },
    {
      "cell_type": "code",
      "source": [
        "def process_res(y):\n",
        "    return (y > 2.0).astype(int)"
      ],
      "metadata": {
        "id": "XKmOLi6TIePS"
      },
      "execution_count": null,
      "outputs": []
    },
    {
      "cell_type": "code",
      "source": [
        "from sklearn.datasets import fetch_california_housing\n",
        "X, y = fetch_california_housing(return_X_y=True)\n",
        "# Превращаем регрессию в классификацию\n",
        "y = process_res(y)\n",
        "print(X.shape, y.shape)"
      ],
      "metadata": {
        "colab": {
          "base_uri": "https://localhost:8080/"
        },
        "id": "uGa-8ac3vSUS",
        "outputId": "1a772cb4-b35e-4891-b90b-52becbe87adf"
      },
      "execution_count": null,
      "outputs": [
        {
          "output_type": "stream",
          "name": "stdout",
          "text": [
            "(20640, 8) (20640,)\n"
          ]
        }
      ]
    },
    {
      "cell_type": "code",
      "execution_count": null,
      "metadata": {
        "collapsed": true,
        "jupyter": {
          "outputs_hidden": true
        },
        "id": "jDLNQzDyHYrs",
        "colab": {
          "base_uri": "https://localhost:8080/"
        },
        "outputId": "fe9c3742-6ec4-4df5-b0a9-dbe7a6faa854"
      },
      "outputs": [
        {
          "output_type": "stream",
          "name": "stderr",
          "text": [
            "  0%|          | 0/3 [00:00<?, ?it/s]\n",
            "0it [00:00, ?it/s]\u001b[A\n",
            "1it [03:18, 198.09s/it]\u001b[A\n",
            "2it [06:39, 200.08s/it]\u001b[A\n",
            "3it [10:00, 200.51s/it]\u001b[A\n",
            "4it [13:21, 200.48s/it]\n",
            " 33%|███▎      | 1/3 [13:21<26:43, 801.95s/it]\n",
            "0it [00:00, ?it/s]\u001b[A\n",
            "1it [03:16, 196.87s/it]\u001b[A\n",
            "2it [06:23, 190.94s/it]\u001b[A\n",
            "3it [09:32, 189.79s/it]\u001b[A\n",
            "4it [12:42, 190.58s/it]\n",
            " 67%|██████▋   | 2/3 [26:04<12:58, 778.64s/it]\n",
            "0it [00:00, ?it/s]\u001b[A\n",
            "1it [03:04, 184.51s/it]\u001b[A\n",
            "2it [06:09, 184.86s/it]\u001b[A\n",
            "3it [09:18, 186.75s/it]\u001b[A\n",
            "4it [12:24, 186.18s/it]\n",
            "100%|██████████| 3/3 [38:34<00:00, 771.55s/it]"
          ]
        },
        {
          "output_type": "stream",
          "name": "stdout",
          "text": [
            "{'MSE': [0.9649709302325582], 'Exponential': [0.9586240310077518], 'Deviance': [0.8644379844961241]}\n"
          ]
        },
        {
          "output_type": "stream",
          "name": "stderr",
          "text": [
            "\n"
          ]
        }
      ],
      "source": [
        "from tqdm import tqdm\n",
        "\n",
        "scores_history = {\n",
        "    'MSE': [],\n",
        "    'Exponential' : [],\n",
        "    'Deviance': []\n",
        "}\n",
        "\n",
        "num_split = 4\n",
        "for cur_loss in tqdm(scores_history):\n",
        "    my_clf = MyGradientBoostingClassifier(random_state=SEED, loss=cur_loss, n_estimators=15)\n",
        "    cur_score = validation_score(my_clf=my_clf, X=X, y=y, random_state=SEED, num_split=num_split, base_model=RandomForestRegressor)\n",
        "    scores_history[cur_loss].append(cur_score)\n",
        "print(scores_history)"
      ]
    },
    {
      "cell_type": "code",
      "source": [
        "scores_history = {\n",
        "    'MSE': [],\n",
        "    'Exponential' : [],\n",
        "    'Deviance': []\n",
        "}\n",
        "\n",
        "num_models = 1\n",
        "num_split = 4\n",
        "\n",
        "for cur_loss in scores_history:\n",
        "    skf = StratifiedKFold(n_splits=num_split, shuffle=True, random_state=SEED)\n",
        "    scores = []\n",
        "\n",
        "    for train_index, test_index in skf.split(X, y):\n",
        "        X_train, X_test = X[train_index], X[test_index]\n",
        "        y_train, y_test = y[train_index], y[test_index]\n",
        "        y_predictions = np.zeros((y_test.shape[0], num_models))\n",
        "        for i in range(num_models):\n",
        "            my_clf = MyGradientBoostingClassifier(random_state=SEED, loss=cur_loss)\n",
        "            \n",
        "            cur_idxs = np.random.choice(np.arange(X_train.shape[0]), round(X_train.shape[0]/num_models), replace=False)\n",
        "\n",
        "            X_train_cur = X_train[cur_idxs]\n",
        "            y_train_cur = y_train[cur_idxs]\n",
        "\n",
        "            my_clf.fit(X_train_cur, y_train_cur)\n",
        "            y_prediction_cur = my_clf.predict(X_test)\n",
        "            y_predictions[:, i] = y_prediction_cur\n",
        "        y_predictions_mod = np.apply_along_axis(np.bincount, 1, np.array(y_predictions, dtype=np.int64), minlength=len(np.unique(y)))\n",
        "        y_predictions_mod = np.apply_along_axis(np.argmax, 1, y_predictions_mod)\n",
        "        scores.append(accuracy_score(y_pred=y_predictions_mod, y_true=y_test))\n",
        "    scores_history[cur_loss] = np.array(scores).mean()\n",
        "scores_history"
      ],
      "metadata": {
        "id": "dX1Wp9wDaVkY",
        "colab": {
          "base_uri": "https://localhost:8080/"
        },
        "outputId": "e65e263e-c577-42d6-ab19-4d4f210e9620"
      },
      "execution_count": null,
      "outputs": [
        {
          "output_type": "execute_result",
          "data": {
            "text/plain": [
              "{'Deviance': 0.834156976744186,\n",
              " 'Exponential': 0.8338662790697674,\n",
              " 'MSE': 0.8315891472868218}"
            ]
          },
          "metadata": {},
          "execution_count": 95
        }
      ]
    },
    {
      "cell_type": "code",
      "source": [
        ""
      ],
      "metadata": {
        "id": "JbBmBh2g3z9P"
      },
      "execution_count": null,
      "outputs": []
    },
    {
      "cell_type": "markdown",
      "source": [
        "Результат не стал лучше. В случае с RandomForest думаю, что необходимо настраивать параметры.\n",
        "В случае с усреднием результатов по бустингам. Изначально бустинг работает так, что variance не очень большой, а bias - да. Как я понимаю, при таком подходе могут быть проблемы с variance дополнительные.\n",
        "\n",
        "*Я сократил число алгоритмов с RandomForest до 15, так как иначе у меня вылетало*"
      ],
      "metadata": {
        "id": "9gDfzv7l301b"
      }
    },
    {
      "cell_type": "markdown",
      "metadata": {
        "id": "ys327CdoHYrt"
      },
      "source": [
        "## Умная инициализация (1 балл)\n",
        "\n",
        "Попробуйте брать в качестве инициализации бустинга не константу, а какой-то алгоритм и уже от его предикта стартовать итерации бустинга. Попробуйте разные модели из sklearn: линейные модели, рандом форест, svm..\n",
        "\n",
        "Получилось ли улучшить качество? Почему?\n",
        "\n"
      ]
    },
    {
      "cell_type": "code",
      "source": [
        "from sklearn.svm import SVR\n",
        "from sklearn.linear_model import LinearRegression"
      ],
      "metadata": {
        "id": "chRZWhVlabyH"
      },
      "execution_count": null,
      "outputs": []
    },
    {
      "cell_type": "code",
      "execution_count": null,
      "metadata": {
        "collapsed": true,
        "jupyter": {
          "outputs_hidden": true
        },
        "id": "Z7jYa_kLHYrt",
        "colab": {
          "base_uri": "https://localhost:8080/"
        },
        "outputId": "97d20235-6fbc-476c-d0e0-50fed4d0a70d"
      },
      "outputs": [
        {
          "output_type": "stream",
          "name": "stderr",
          "text": [
            "4it [00:45, 11.33s/it]\n",
            "4it [00:55, 13.96s/it]\n",
            "4it [00:55, 13.94s/it]"
          ]
        },
        {
          "output_type": "stream",
          "name": "stdout",
          "text": [
            "{'MSE': [0.9575581395348838], 'Exponential': [0.9571220930232558], 'Deviance': [0.9576065891472868]}\n"
          ]
        },
        {
          "output_type": "stream",
          "name": "stderr",
          "text": [
            "\n"
          ]
        }
      ],
      "source": [
        "scores_history = {\n",
        "    'MSE': [],\n",
        "    'Exponential' : [],\n",
        "    'Deviance': []\n",
        "}\n",
        "\n",
        "num_split = 4\n",
        "for cur_loss in scores_history:\n",
        "    my_clf = MyGradientBoostingClassifier(random_state=SEED, loss=cur_loss)\n",
        "    cur_score = validation_score(my_clf=my_clf, X=X, y=y, random_state=SEED, num_split=num_split, init_model=SVR, process_res=process_res)\n",
        "    scores_history[cur_loss].append(cur_score)\n",
        "print(scores_history)"
      ]
    },
    {
      "cell_type": "code",
      "source": [
        "scores_history = {\n",
        "    'MSE': [],\n",
        "    'Exponential' : [],\n",
        "    'Deviance': []\n",
        "}\n",
        "\n",
        "num_split = 4\n",
        "for cur_loss in scores_history:\n",
        "    my_clf = MyGradientBoostingClassifier(random_state=SEED, loss=cur_loss)\n",
        "    cur_score = validation_score(my_clf=my_clf, X=X, y=y, random_state=SEED, num_split=num_split, init_model=SVR)\n",
        "    scores_history[cur_loss].append(cur_score)\n",
        "print(scores_history)"
      ],
      "metadata": {
        "id": "H5Qa_5CCbuNE",
        "colab": {
          "base_uri": "https://localhost:8080/"
        },
        "outputId": "f284fc13-0f48-483f-f226-53c5f681cfe3"
      },
      "execution_count": null,
      "outputs": [
        {
          "output_type": "stream",
          "name": "stderr",
          "text": [
            "4it [00:48, 12.21s/it]\n",
            "4it [00:56, 14.22s/it]\n",
            "4it [00:56, 14.21s/it]"
          ]
        },
        {
          "output_type": "stream",
          "name": "stdout",
          "text": [
            "{'MSE': [0.9568798449612403], 'Exponential': [0.9574127906976744], 'Deviance': [0.9576065891472868]}\n"
          ]
        },
        {
          "output_type": "stream",
          "name": "stderr",
          "text": [
            "\n"
          ]
        }
      ]
    },
    {
      "cell_type": "code",
      "execution_count": null,
      "metadata": {
        "collapsed": true,
        "jupyter": {
          "outputs_hidden": true
        },
        "id": "3r7Ipm96HYrt",
        "colab": {
          "base_uri": "https://localhost:8080/"
        },
        "outputId": "a54aed74-8a16-4c0c-a416-ad441acd985b"
      },
      "outputs": [
        {
          "output_type": "stream",
          "name": "stderr",
          "text": [
            "4it [00:45, 11.47s/it]\n",
            "4it [00:56, 14.08s/it]\n",
            "4it [00:55, 13.97s/it]"
          ]
        },
        {
          "output_type": "stream",
          "name": "stdout",
          "text": [
            "{'MSE': [0.9571705426356589], 'Exponential': [0.9573158914728682], 'Deviance': [0.9571705426356589]}\n"
          ]
        },
        {
          "output_type": "stream",
          "name": "stderr",
          "text": [
            "\n"
          ]
        }
      ],
      "source": [
        "scores_history = {\n",
        "    'MSE': [],\n",
        "    'Exponential' : [],\n",
        "    'Deviance': []\n",
        "}\n",
        "\n",
        "num_split = 4\n",
        "for cur_loss in scores_history:\n",
        "    my_clf = MyGradientBoostingClassifier(random_state=SEED, loss=cur_loss)\n",
        "    cur_score = validation_score(my_clf=my_clf, X=X, y=y, random_state=SEED, num_split=num_split, init_model=LinearRegression)\n",
        "    scores_history[cur_loss].append(cur_score)\n",
        "print(scores_history)"
      ]
    },
    {
      "cell_type": "markdown",
      "source": [
        "Результат не стал лучше. Думаю, что необходимо настраивать init_model."
      ],
      "metadata": {
        "id": "iYfanovH3XGk"
      }
    },
    {
      "cell_type": "markdown",
      "metadata": {
        "id": "oAznKiBQHYrt"
      },
      "source": [
        "## Фидбек (бесценно)"
      ]
    },
    {
      "cell_type": "markdown",
      "metadata": {
        "id": "eZ8Udj7LHYru"
      },
      "source": [
        "* Какие аспекты обучения  ансамблей Вам показались непонятными? Какое место стоит дополнительно объяснить?"
      ]
    },
    {
      "cell_type": "markdown",
      "metadata": {
        "id": "KECxA3zKHYru"
      },
      "source": [
        "### Ваш ответ здесь"
      ]
    },
    {
      "cell_type": "markdown",
      "metadata": {
        "id": "-JK-8qk7HYru"
      },
      "source": [
        "* Здесь Вы можете оставить отзыв о этой домашней работе или о всем курсе."
      ]
    },
    {
      "cell_type": "markdown",
      "metadata": {
        "id": "Kf7Y2J4QHYru"
      },
      "source": [
        "### ВАШ ОТЗЫВ ЗДЕСЬ\n",
        "\n"
      ]
    },
    {
      "cell_type": "code",
      "execution_count": null,
      "metadata": {
        "collapsed": true,
        "jupyter": {
          "outputs_hidden": true
        },
        "id": "1d7t1X1qHYru"
      },
      "outputs": [],
      "source": [
        ""
      ]
    },
    {
      "cell_type": "code",
      "execution_count": null,
      "metadata": {
        "collapsed": true,
        "jupyter": {
          "outputs_hidden": true
        },
        "id": "da9jrC8kHYru"
      },
      "outputs": [],
      "source": [
        ""
      ]
    }
  ],
  "metadata": {
    "anaconda-cloud": {},
    "kernelspec": {
      "display_name": "Python 3 (ipykernel)",
      "language": "python",
      "name": "python3"
    },
    "language_info": {
      "codemirror_mode": {
        "name": "ipython",
        "version": 3
      },
      "file_extension": ".py",
      "mimetype": "text/x-python",
      "name": "python",
      "nbconvert_exporter": "python",
      "pygments_lexer": "ipython3",
      "version": "3.8.8"
    },
    "colab": {
      "name": "Pyatkovskiy_gradient_boosting_hw4.ipynb",
      "provenance": [],
      "collapsed_sections": [
        "61cDbm_-HYrr",
        "ys327CdoHYrt",
        "oAznKiBQHYrt"
      ]
    },
    "accelerator": "GPU",
    "gpuClass": "standard"
  },
  "nbformat": 4,
  "nbformat_minor": 0
}